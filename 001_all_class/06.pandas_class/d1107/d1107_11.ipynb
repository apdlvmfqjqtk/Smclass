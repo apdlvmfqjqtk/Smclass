{
 "cells": [
  {
   "cell_type": "markdown",
   "metadata": {},
   "source": [
    "students.xlsx 파일을 불러와서"
   ]
  },
  {
   "cell_type": "markdown",
   "metadata": {},
   "source": [
    "평균 90점 이상 수학80점 이상을 출력하시오"
   ]
  },
  {
   "cell_type": "code",
   "execution_count": 2,
   "metadata": {},
   "outputs": [],
   "source": [
    "import pandas as pd\n",
    "df = pd.read_csv('students.csv',index_col='no')\n",
    "# df.info()\n"
   ]
  },
  {
   "cell_type": "code",
   "execution_count": 5,
   "metadata": {},
   "outputs": [
    {
     "data": {
      "text/html": [
       "<div>\n",
       "<style scoped>\n",
       "    .dataframe tbody tr th:only-of-type {\n",
       "        vertical-align: middle;\n",
       "    }\n",
       "\n",
       "    .dataframe tbody tr th {\n",
       "        vertical-align: top;\n",
       "    }\n",
       "\n",
       "    .dataframe thead th {\n",
       "        text-align: right;\n",
       "    }\n",
       "</style>\n",
       "<table border=\"1\" class=\"dataframe\">\n",
       "  <thead>\n",
       "    <tr style=\"text-align: right;\">\n",
       "      <th></th>\n",
       "      <th>name</th>\n",
       "      <th>kor</th>\n",
       "      <th>eng</th>\n",
       "      <th>math</th>\n",
       "      <th>total</th>\n",
       "      <th>avg</th>\n",
       "      <th>rank</th>\n",
       "      <th>sdate</th>\n",
       "    </tr>\n",
       "    <tr>\n",
       "      <th>no</th>\n",
       "      <th></th>\n",
       "      <th></th>\n",
       "      <th></th>\n",
       "      <th></th>\n",
       "      <th></th>\n",
       "      <th></th>\n",
       "      <th></th>\n",
       "      <th></th>\n",
       "    </tr>\n",
       "  </thead>\n",
       "  <tbody>\n",
       "    <tr>\n",
       "      <th>38</th>\n",
       "      <td>Anneliese</td>\n",
       "      <td>90</td>\n",
       "      <td>99</td>\n",
       "      <td>55</td>\n",
       "      <td>244</td>\n",
       "      <td>81.333333</td>\n",
       "      <td>64</td>\n",
       "      <td>2024-02-14</td>\n",
       "    </tr>\n",
       "    <tr>\n",
       "      <th>57</th>\n",
       "      <td>Luise</td>\n",
       "      <td>96</td>\n",
       "      <td>83</td>\n",
       "      <td>80</td>\n",
       "      <td>259</td>\n",
       "      <td>86.333333</td>\n",
       "      <td>6</td>\n",
       "      <td>2024-09-10</td>\n",
       "    </tr>\n",
       "    <tr>\n",
       "      <th>147</th>\n",
       "      <td>Riordan</td>\n",
       "      <td>95</td>\n",
       "      <td>98</td>\n",
       "      <td>80</td>\n",
       "      <td>273</td>\n",
       "      <td>91.000000</td>\n",
       "      <td>80</td>\n",
       "      <td>2024-11-05</td>\n",
       "    </tr>\n",
       "    <tr>\n",
       "      <th>154</th>\n",
       "      <td>Ody</td>\n",
       "      <td>90</td>\n",
       "      <td>79</td>\n",
       "      <td>80</td>\n",
       "      <td>249</td>\n",
       "      <td>83.000000</td>\n",
       "      <td>53</td>\n",
       "      <td>2024-03-02</td>\n",
       "    </tr>\n",
       "    <tr>\n",
       "      <th>261</th>\n",
       "      <td>Vilhelmina</td>\n",
       "      <td>95</td>\n",
       "      <td>70</td>\n",
       "      <td>75</td>\n",
       "      <td>240</td>\n",
       "      <td>80.000000</td>\n",
       "      <td>48</td>\n",
       "      <td>2024-04-14</td>\n",
       "    </tr>\n",
       "    <tr>\n",
       "      <th>348</th>\n",
       "      <td>Alfie</td>\n",
       "      <td>97</td>\n",
       "      <td>80</td>\n",
       "      <td>91</td>\n",
       "      <td>268</td>\n",
       "      <td>89.333333</td>\n",
       "      <td>99</td>\n",
       "      <td>2024-02-16</td>\n",
       "    </tr>\n",
       "    <tr>\n",
       "      <th>426</th>\n",
       "      <td>Elmer</td>\n",
       "      <td>90</td>\n",
       "      <td>70</td>\n",
       "      <td>94</td>\n",
       "      <td>254</td>\n",
       "      <td>84.666667</td>\n",
       "      <td>29</td>\n",
       "      <td>2024-10-12</td>\n",
       "    </tr>\n",
       "    <tr>\n",
       "      <th>529</th>\n",
       "      <td>Carine</td>\n",
       "      <td>93</td>\n",
       "      <td>73</td>\n",
       "      <td>78</td>\n",
       "      <td>244</td>\n",
       "      <td>81.333333</td>\n",
       "      <td>38</td>\n",
       "      <td>2024-08-01</td>\n",
       "    </tr>\n",
       "    <tr>\n",
       "      <th>536</th>\n",
       "      <td>Efren</td>\n",
       "      <td>96</td>\n",
       "      <td>93</td>\n",
       "      <td>61</td>\n",
       "      <td>250</td>\n",
       "      <td>83.333333</td>\n",
       "      <td>63</td>\n",
       "      <td>2024-07-06</td>\n",
       "    </tr>\n",
       "    <tr>\n",
       "      <th>563</th>\n",
       "      <td>Lillian</td>\n",
       "      <td>96</td>\n",
       "      <td>68</td>\n",
       "      <td>81</td>\n",
       "      <td>245</td>\n",
       "      <td>81.666667</td>\n",
       "      <td>57</td>\n",
       "      <td>2024-10-26</td>\n",
       "    </tr>\n",
       "    <tr>\n",
       "      <th>644</th>\n",
       "      <td>Perkin</td>\n",
       "      <td>90</td>\n",
       "      <td>71</td>\n",
       "      <td>83</td>\n",
       "      <td>244</td>\n",
       "      <td>81.333333</td>\n",
       "      <td>78</td>\n",
       "      <td>2024-03-16</td>\n",
       "    </tr>\n",
       "    <tr>\n",
       "      <th>961</th>\n",
       "      <td>Giffer</td>\n",
       "      <td>93</td>\n",
       "      <td>100</td>\n",
       "      <td>67</td>\n",
       "      <td>260</td>\n",
       "      <td>86.666667</td>\n",
       "      <td>85</td>\n",
       "      <td>2024-05-10</td>\n",
       "    </tr>\n",
       "  </tbody>\n",
       "</table>\n",
       "</div>"
      ],
      "text/plain": [
       "           name  kor  eng  math  total        avg  rank       sdate\n",
       "no                                                                 \n",
       "38    Anneliese   90   99    55    244  81.333333    64  2024-02-14\n",
       "57        Luise   96   83    80    259  86.333333     6  2024-09-10\n",
       "147     Riordan   95   98    80    273  91.000000    80  2024-11-05\n",
       "154         Ody   90   79    80    249  83.000000    53  2024-03-02\n",
       "261  Vilhelmina   95   70    75    240  80.000000    48  2024-04-14\n",
       "348       Alfie   97   80    91    268  89.333333    99  2024-02-16\n",
       "426       Elmer   90   70    94    254  84.666667    29  2024-10-12\n",
       "529      Carine   93   73    78    244  81.333333    38  2024-08-01\n",
       "536       Efren   96   93    61    250  83.333333    63  2024-07-06\n",
       "563     Lillian   96   68    81    245  81.666667    57  2024-10-26\n",
       "644      Perkin   90   71    83    244  81.333333    78  2024-03-16\n",
       "961      Giffer   93  100    67    260  86.666667    85  2024-05-10"
      ]
     },
     "execution_count": 5,
     "metadata": {},
     "output_type": "execute_result"
    }
   ],
   "source": [
    "filt = (df['avg']>= 80) & (df['kor'] >= 90)\n",
    "df[filt]"
   ]
  },
  {
   "cell_type": "code",
   "execution_count": 11,
   "metadata": {},
   "outputs": [
    {
     "data": {
      "text/plain": [
       "name     412\n",
       "kor      412\n",
       "eng      412\n",
       "math     412\n",
       "total    412\n",
       "avg      412\n",
       "rank     412\n",
       "sdate    412\n",
       "dtype: int64"
      ]
     },
     "execution_count": 11,
     "metadata": {},
     "output_type": "execute_result"
    }
   ],
   "source": [
    "# 평균이 60점 이상 또는 국어 70점 이상\n",
    "filt = ( df['avg'] >= 60 ) | ( df['kor'] >= 70 )\n",
    "df[filt]"
   ]
  },
  {
   "cell_type": "code",
   "execution_count": 18,
   "metadata": {},
   "outputs": [
    {
     "data": {
      "text/plain": [
       "np.int64(4)"
      ]
     },
     "execution_count": 18,
     "metadata": {},
     "output_type": "execute_result"
    }
   ],
   "source": [
    "# ## 이름에 t가 들어가면서 평균 점수가 80점 이상\n",
    "filt = (df['name'].str.contains('t')) & (df['avg'] >= 80)\n",
    "df[filt]['kor'].count()\n",
    "# df['name']"
   ]
  }
 ],
 "metadata": {
  "kernelspec": {
   "display_name": "Python 3",
   "language": "python",
   "name": "python3"
  },
  "language_info": {
   "codemirror_mode": {
    "name": "ipython",
    "version": 3
   },
   "file_extension": ".py",
   "mimetype": "text/x-python",
   "name": "python",
   "nbconvert_exporter": "python",
   "pygments_lexer": "ipython3",
   "version": "3.12.6"
  }
 },
 "nbformat": 4,
 "nbformat_minor": 2
}
