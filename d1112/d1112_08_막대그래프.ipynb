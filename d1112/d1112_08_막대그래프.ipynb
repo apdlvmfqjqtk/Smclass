{
 "cells": [
  {
   "cell_type": "code",
   "execution_count": null,
   "metadata": {},
   "outputs": [],
   "source": [
    "import matplotlib.pyplot as plt\n",
    "import matplotlib\n",
    "matplotlib.rcParams['font.family'] = 'Malgun Gothic'\n",
    "matplotlib.rcParams['font.size'] = 15            \n",
    "matplotlib.rcParams['axes.unicode_minus'] = False"
   ]
  },
  {
   "cell_type": "markdown",
   "metadata": {},
   "source": [
    "라벨 이름 변경, "
   ]
  },
  {
   "cell_type": "code",
   "execution_count": null,
   "metadata": {},
   "outputs": [],
   "source": [
    "label = ['홍길동','유관순','강감찬']\n",
    "values = [180,187,184]\n",
    "# color 색상, width: 바크기조절\n",
    "colors = ['r','g','b']\n",
    "\n",
    "\n",
    "plt.figure(figsize=(5,3)) # 그래프 크기 조정\n",
    "plt.bar(label,values, color=colors,width=0.2,label='학생키') # 바 색상을 여러개로로 처리\n",
    "plt.yticks([0,50,100,150,200,250])\n",
    "plt.xticks(label,['1번','2번','3번'], rotation=45)  # X라벨 변경\n",
    "# plt.xticks([0, 1, 2], rotation=45)\n",
    "plt.title(\"막대그래프\")\n",
    "plt.legend(loc=\"upper center\")\n",
    "\n",
    "# plt.bar(label,values,color='r')  # 1개의 색상으로 처리\n",
    "# plt.plot(label,values)  # 선그래프\n",
    "\n",
    "\n",
    "plt.show()"
   ]
  },
  {
   "cell_type": "markdown",
   "metadata": {},
   "source": [
    "막대그래프의 무늬 설정"
   ]
  },
  {
   "cell_type": "code",
   "execution_count": null,
   "metadata": {},
   "outputs": [],
   "source": [
    "colors = ['red','green','blue']\n",
    "bar = plt.bar(label, values, width=0.5, color=colors, alpha=0.5)\n",
    "\n",
    "# 막대그래프의 무늬 설정\n",
    "bar[0].set_hatch('/')\n",
    "bar[1].set_hatch('x')\n",
    "bar[2].set_hatch('..')"
   ]
  },
  {
   "cell_type": "markdown",
   "metadata": {},
   "source": [
    "* 0부터 범위설정 xticks, yticks\n",
    "* 특정 구간부터 범위설정 : xlim, ylim"
   ]
  },
  {
   "cell_type": "code",
   "execution_count": null,
   "metadata": {},
   "outputs": [],
   "source": [
    "colors = ['red','green','blue']\n",
    "bar = plt.bar(label, values, width=0.5, color=colors, alpha=0.5)\n",
    "\n",
    "# plt.yticks([100,150,200])\n",
    "plt.ylim(175,190) # 특정 구간 범위 지정\n",
    "plt.show()"
   ]
  },
  {
   "cell_type": "code",
   "execution_count": 69,
   "metadata": {},
   "outputs": [
    {
     "data": {
      "text/plain": [
       "(175.0, 190.0)"
      ]
     },
     "execution_count": 69,
     "metadata": {},
     "output_type": "execute_result"
    },
    {
     "data": {
      "image/png": "[encoded data removed]",
      "text/plain": [
       "<Figure size 640x480 with 1 Axes>"
      ]
     },
     "metadata": {},
     "output_type": "display_data"
    }
   ],
   "source": [
    "label = ['홍길동','유관순','강감찬']\n",
    "values = [180,187,184]\n",
    "colors = ['red','green','blue']\n",
    "\n",
    "plt.barh( label, values, height=0.5, color=colors, alpha=0.5)\n",
    "plt.xlim(175,190)\n",
    "# plt.yticks([100,150,200])"
   ]
  }
 ],
 "metadata": {
  "kernelspec": {
   "display_name": "Python 3",
   "language": "python",
   "name": "python3"
  },
  "language_info": {
   "codemirror_mode": {
    "name": "ipython",
    "version": 3
   },
   "file_extension": ".py",
   "mimetype": "text/x-python",
   "name": "python",
   "nbconvert_exporter": "python",
   "pygments_lexer": "ipython3",
   "version": "3.12.6"
  }
 },
 "nbformat": 4,
 "nbformat_minor": 2
}
