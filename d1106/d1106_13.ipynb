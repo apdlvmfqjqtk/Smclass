{
 "cells": [
  {
   "cell_type": "code",
   "execution_count": null,
   "metadata": {},
   "outputs": [],
   "source": [
    "# 졸음운전사고 3개를 병합\n",
    "# 사고가 가장 많이 난 횟수 상위 5개를 출력하시오\n",
    "# 사망자 평균 출력"
   ]
  },
  {
   "cell_type": "code",
   "execution_count": null,
   "metadata": {},
   "outputs": [],
   "source": [
    "import pandas as pd\n",
    "df1 = pd.read_csv('2014년졸음운전교통사고.csv',encoding='euc-kr')\n",
    "df1\n",
    "df2 = pd.read_csv('2015년졸음운전교통사고.csv',encoding='euc-kr')\n",
    "df2\n",
    "df3 = pd.read_csv('2016년졸음운전교통사고.csv',encoding='euc-kr')\n",
    "df3\n",
    "df = pd.concat([df1,df2,df3])"
   ]
  },
  {
   "cell_type": "markdown",
   "metadata": {},
   "source": [
    "사고횟수 상위 5"
   ]
  },
  {
   "cell_type": "code",
   "execution_count": 14,
   "metadata": {},
   "outputs": [
    {
     "data": {
      "text/plain": [
       "7     230\n",
       "8     187\n",
       "9     183\n",
       "10    200\n",
       "11    168\n",
       "Name: 사고(건), dtype: int64"
      ]
     },
     "execution_count": 14,
     "metadata": {},
     "output_type": "execute_result"
    }
   ],
   "source": [
    "df['사고(건)'].nlargest(5)\n",
    "df['사고(건)'].head()\n",
    "df['사고(건)'].tail()\n",
    "\n",
    "# df['사망(명)'].mean()"
   ]
  }
 ],
 "metadata": {
  "kernelspec": {
   "display_name": "Python 3",
   "language": "python",
   "name": "python3"
  },
  "language_info": {
   "codemirror_mode": {
    "name": "ipython",
    "version": 3
   },
   "file_extension": ".py",
   "mimetype": "text/x-python",
   "name": "python",
   "nbconvert_exporter": "python",
   "pygments_lexer": "ipython3",
   "version": "3.12.6"
  }
 },
 "nbformat": 4,
 "nbformat_minor": 2
}
