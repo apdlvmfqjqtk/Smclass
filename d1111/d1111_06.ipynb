{
 "cells": [
  {
   "cell_type": "code",
   "execution_count": null,
   "metadata": {},
   "outputs": [],
   "source": [
    "import pandas as pd\n",
    "import numpy as np\n",
    "\n",
    "df = pd.read_csv('chipotle.tsv',sep='\\t')\n",
    "df.tail(2)"
   ]
  },
  {
   "cell_type": "code",
   "execution_count": null,
   "metadata": {},
   "outputs": [],
   "source": [
    "### 메뉴별 주문수량을 출력하시오\n",
    "df.groupby('item_name')['quantity'].sum().sort_values()"
   ]
  },
  {
   "cell_type": "code",
   "execution_count": null,
   "metadata": {},
   "outputs": [],
   "source": [
    "### 메뉴별 총 주문량을 출력하시오\n",
    "df.groupby('item_name')['order_id'].count().sort_values()"
   ]
  },
  {
   "cell_type": "code",
   "execution_count": null,
   "metadata": {},
   "outputs": [],
   "source": [
    "### 주문당 평균 계산금액을 출력하시오.\n",
    "# 가격 실수형태로 바꿈\n",
    "df['item_price'] = df['item_price'].str[1:].astype(float)\n",
    "df.groupby('order_id')['item_price'].sum().sort_values()"
   ]
  },
  {
   "cell_type": "code",
   "execution_count": null,
   "metadata": {},
   "outputs": [],
   "source": [
    "### 아이템별 가격 금액을 출력을 하시오.\n",
    "df.groupby('item_name')['item_price'].mean()\n"
   ]
  },
  {
   "cell_type": "code",
   "execution_count": 58,
   "metadata": {},
   "outputs": [
    {
     "data": {
      "text/plain": [
       "item_name\n",
       "Bowl                     14.800000\n",
       "Steak Salad Bowl         11.847931\n",
       "Chicken Salad Bowl       11.170455\n",
       "Carnitas Crispy Tacos    11.137143\n",
       "Carnitas Salad Bowl      11.056667\n",
       "Name: item_price, dtype: float64"
      ]
     },
     "execution_count": 58,
     "metadata": {},
     "output_type": "execute_result"
    }
   ],
   "source": [
    "### 주문별, 높은 가격순으로 주문 개수를 출력하시오.\n",
    "# 주문 많은 횟수\n",
    "df.groupby('item_name')['order_id'].count().sort_values(ascending=False).head()\n",
    "# 높은 가격순\n",
    "df.groupby('item_name')['item_price'].mean().sort_values(ascending=False).head()"
   ]
  },
  {
   "cell_type": "code",
   "execution_count": null,
   "metadata": {},
   "outputs": [],
   "source": [
    "### 주문당 평균 계산금액을 출력하시오."
   ]
  }
 ],
 "metadata": {
  "kernelspec": {
   "display_name": "Python 3",
   "language": "python",
   "name": "python3"
  },
  "language_info": {
   "codemirror_mode": {
    "name": "ipython",
    "version": 3
   },
   "file_extension": ".py",
   "mimetype": "text/x-python",
   "name": "python",
   "nbconvert_exporter": "python",
   "pygments_lexer": "ipython3",
   "version": "3.12.6"
  }
 },
 "nbformat": 4,
 "nbformat_minor": 2
}
